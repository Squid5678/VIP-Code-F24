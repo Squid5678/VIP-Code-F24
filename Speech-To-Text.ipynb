{
 "cells": [
  {
   "cell_type": "code",
   "execution_count": 8,
   "metadata": {},
   "outputs": [
    {
     "name": "stdout",
     "output_type": "stream",
     "text": [
      "Recording Starting! Duration: 5\n",
      "Recording Complete!\n"
     ]
    }
   ],
   "source": [
    "import pyaudio\n",
    "import wave\n",
    "from datetime import datetime\n",
    "\n",
    "# Define parameters needed for audio recording\n",
    "CHUNK = 1024\n",
    "RATE = 44100\n",
    "RECORD_SECONDS = 5\n",
    "\n",
    "# Setup PyAudio object -- this will be used to record audio.\n",
    "pyAudio = pyaudio.PyAudio()\n",
    "\n",
    "# Some formatting for the audio file name (note that this is based on date/time)\n",
    "audio_file_name = \"recording_{dt}\".format(dt=datetime.now()).replace(\" \", \"_\").replace(\":\", \"_\").split(\".\")[0]\n",
    "\n",
    "print(\"Recording Starting! Duration: {rt}\".format(rt=RECORD_SECONDS))\n",
    "\n",
    "stream = pyAudio.open(format=pyaudio.paInt16, channels=1, rate=RATE, input=True, frames_per_buffer=CHUNK)\n",
    "\n",
    "frames = []\n",
    "\n",
    "for i in range(0, int(RATE / CHUNK * RECORD_SECONDS)):\n",
    "    data = stream.read(CHUNK)\n",
    "    frames.append(data)\n",
    "\n",
    "print(\"Recording Complete!\")\n",
    "\n",
    "# Terminate recording, then store recording into file\n",
    "stream.stop_stream()\n",
    "stream.close()\n",
    "pyAudio.terminate()\n",
    "\n",
    "wf = wave.open(\"audio_recordings/\" + audio_file_name + \".wav\", 'wb')\n",
    "wf.setnchannels(1)\n",
    "wf.setsampwidth(pyAudio.get_sample_size(pyaudio.paInt16))\n",
    "wf.setframerate(RATE)\n",
    "wf.writeframes(b''.join(frames))\n",
    "wf.close()\n"
   ]
  },
  {
   "cell_type": "code",
   "execution_count": 12,
   "metadata": {},
   "outputs": [
    {
     "name": "stderr",
     "output_type": "stream",
     "text": [
      "/Users/aalind/anaconda3/lib/python3.11/site-packages/whisper/__init__.py:150: FutureWarning: You are using `torch.load` with `weights_only=False` (the current default value), which uses the default pickle module implicitly. It is possible to construct malicious pickle data which will execute arbitrary code during unpickling (See https://github.com/pytorch/pytorch/blob/main/SECURITY.md#untrusted-models for more details). In a future release, the default value for `weights_only` will be flipped to `True`. This limits the functions that could be executed during unpickling. Arbitrary objects will no longer be allowed to be loaded via this mode unless they are explicitly allowlisted by the user via `torch.serialization.add_safe_globals`. We recommend you start setting `weights_only=True` for any use case where you don't have full control of the loaded file. Please open an issue on GitHub for any issues related to this experimental feature.\n",
      "  checkpoint = torch.load(fp, map_location=device)\n",
      "/Users/aalind/anaconda3/lib/python3.11/site-packages/whisper/transcribe.py:126: UserWarning: FP16 is not supported on CPU; using FP32 instead\n",
      "  warnings.warn(\"FP16 is not supported on CPU; using FP32 instead\")\n"
     ]
    },
    {
     "name": "stdout",
     "output_type": "stream",
     "text": [
      " Testing testing, 1-2-3 testing testing, hello.\n"
     ]
    }
   ],
   "source": [
    "import whisper\n",
    "\n",
    "model = whisper.load_model('base')\n",
    "result = model.transcribe(\"audio_recordings/\" + audio_file_name + \".wav\")\n",
    "print(result['text'])"
   ]
  }
 ],
 "metadata": {
  "kernelspec": {
   "display_name": "Python 3",
   "language": "python",
   "name": "python3"
  },
  "language_info": {
   "codemirror_mode": {
    "name": "ipython",
    "version": 3
   },
   "file_extension": ".py",
   "mimetype": "text/x-python",
   "name": "python",
   "nbconvert_exporter": "python",
   "pygments_lexer": "ipython3",
   "version": "3.11.5"
  }
 },
 "nbformat": 4,
 "nbformat_minor": 2
}
